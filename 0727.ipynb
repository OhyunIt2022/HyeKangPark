{
  "nbformat": 4,
  "nbformat_minor": 0,
  "metadata": {
    "colab": {
      "name": "0727.ipynb",
      "provenance": []
    },
    "kernelspec": {
      "name": "python3",
      "display_name": "Python 3"
    },
    "language_info": {
      "name": "python"
    }
  },
  "cells": [
    {
      "cell_type": "code",
      "execution_count": null,
      "metadata": {
        "id": "sdVVnuZPCsUx"
      },
      "outputs": [],
      "source": [
        "while True:\n",
        "  사칙연산 = input(\"사칙연산 기호를 입력해주세요\")\n",
        "  처음 = int(input(\"첫번째 숫자를 입력해주세요\"))\n",
        "  다음 = int(input(\"두번째 숫자를 입력해주세요\"))\n",
        "  if 사칙연산==\"+\":\n",
        "    print(\"더하기입니다.\")\n",
        "    print(처음+다음)\n",
        "  elif 사칙연산 == \"-\":\n",
        "    print(\"빼기입니다\")\n",
        "    print(처음-다음)\n",
        "  elif 사칙연산 ==\"*\":\n",
        "    print(\"곱하기입니다\")\n",
        "    print(처음*다음)\n",
        "  elif 사칙연산 ==\"/\":\n",
        "    print(\"나누기입니다\")\n",
        "    print(처음/다음)\n",
        "  종료 = input(\"종료하려면 x을 입력하세요\")\n",
        "  if 종료 == \"x\":\n",
        "    print(\"종료합니다\") \n",
        "    break"
      ]
    },
    {
      "cell_type": "code",
      "source": [
        "def 값입력하기():\n",
        "  처음 = int(input(\"첫번째 숫자를 입력하세요\"))\n",
        "  기호 = input(\"기호를 입력하세요\")\n",
        "  다음 = int(input(\"두번째 숫자를 입력하세요\"))\n",
        "  return 처음, 기호, 다음"
      ],
      "metadata": {
        "id": "xYhF8fduVdnc"
      },
      "execution_count": 48,
      "outputs": []
    },
    {
      "cell_type": "code",
      "source": [
        "처음, 기호, 다음 = 값입력하기()"
      ],
      "metadata": {
        "colab": {
          "base_uri": "https://localhost:8080/"
        },
        "id": "4eKbfsZYVxI5",
        "outputId": "ef49907f-2009-4b0b-a71a-499c7ee454b2"
      },
      "execution_count": 54,
      "outputs": [
        {
          "name": "stdout",
          "output_type": "stream",
          "text": [
            "첫번째 숫자를 입력하세요3\n",
            "기호를 입력하세요+\n",
            "두번째 숫자를 입력하세요2\n"
          ]
        }
      ]
    },
    {
      "cell_type": "code",
      "source": [
        "print(처음, 기호 ,다음,\"=\",처음+다음)"
      ],
      "metadata": {
        "colab": {
          "base_uri": "https://localhost:8080/"
        },
        "id": "pkBYFF2OV7S5",
        "outputId": "a3fa9b5f-47fa-4fed-d41c-8326516ed56b"
      },
      "execution_count": 55,
      "outputs": [
        {
          "output_type": "stream",
          "name": "stdout",
          "text": [
            "3 + 2 = 5\n"
          ]
        }
      ]
    },
    {
      "cell_type": "code",
      "source": [
        "def 계산및출력(처음, 사칙연산 ,다음):\n",
        "  if 사칙연산==\"+\":\n",
        "    print(\"더하기입니다.\")\n",
        "    print(처음+다음)\n",
        "  elif 사칙연산 == \"-\":\n",
        "    print(\"빼기입니다\")\n",
        "    print(처음-다음)\n",
        "  elif 사칙연산 ==\"*\":\n",
        "    print(\"곱하기입니다\")\n",
        "    print(처음*다음)\n",
        "  elif 사칙연산 ==\"/\":\n",
        "    print(\"나누기입니다\")\n",
        "    print(처음/다음)\n"
      ],
      "metadata": {
        "id": "d14hxX_ZW5Xb"
      },
      "execution_count": 61,
      "outputs": []
    },
    {
      "cell_type": "code",
      "source": [
        "계산및출력(사칙연산 = \"+\", 처음 = 10, 다음 = 20)"
      ],
      "metadata": {
        "colab": {
          "base_uri": "https://localhost:8080/"
        },
        "id": "7EEP0BzUXT_6",
        "outputId": "ef398c2c-5744-4d0b-c69f-a4e705f23708"
      },
      "execution_count": 66,
      "outputs": [
        {
          "output_type": "stream",
          "name": "stdout",
          "text": [
            "더하기입니다.\n",
            "30\n"
          ]
        }
      ]
    },
    {
      "cell_type": "code",
      "source": [
        "def 종료여부확인():\n",
        "  종료여부 = input(\"종료하려면 x를 눌려주세요\")\n",
        "  return 종료여부 == \"x\""
      ],
      "metadata": {
        "id": "11bQPC-EXbpS"
      },
      "execution_count": 68,
      "outputs": []
    },
    {
      "cell_type": "code",
      "source": [
        "종료여부확인()"
      ],
      "metadata": {
        "colab": {
          "base_uri": "https://localhost:8080/"
        },
        "id": "c-ZrXc1-Xu1L",
        "outputId": "f8e77aa9-0ba2-40f1-8639-e9bb2a8e4e8f"
      },
      "execution_count": 71,
      "outputs": [
        {
          "name": "stdout",
          "output_type": "stream",
          "text": [
            "종료하려면 x를 눌려주세요x\n"
          ]
        },
        {
          "output_type": "execute_result",
          "data": {
            "text/plain": [
              "True"
            ]
          },
          "metadata": {},
          "execution_count": 71
        }
      ]
    },
    {
      "cell_type": "code",
      "source": [
        "def hello():\n",
        "  print(\"hello\")"
      ],
      "metadata": {
        "id": "aB0lUlibKNB-"
      },
      "execution_count": 9,
      "outputs": []
    },
    {
      "cell_type": "code",
      "source": [
        "hello()"
      ],
      "metadata": {
        "colab": {
          "base_uri": "https://localhost:8080/"
        },
        "id": "5j3FE71gK_WM",
        "outputId": "6633f832-18ff-43f7-9b3b-7db0702f5710"
      },
      "execution_count": 10,
      "outputs": [
        {
          "output_type": "stream",
          "name": "stdout",
          "text": [
            "hello\n"
          ]
        }
      ]
    },
    {
      "cell_type": "code",
      "source": [
        "def helloToName(name):\n",
        "  print(name, \"님 안녕하세요\")"
      ],
      "metadata": {
        "id": "BFAV93WbLIu-"
      },
      "execution_count": 25,
      "outputs": []
    },
    {
      "cell_type": "code",
      "source": [
        "helloToName(\"박혜강\")"
      ],
      "metadata": {
        "colab": {
          "base_uri": "https://localhost:8080/"
        },
        "id": "1EvQov-3LTap",
        "outputId": "06c226a9-5313-410c-8b5b-ca4d0a9d6a7e"
      },
      "execution_count": 26,
      "outputs": [
        {
          "output_type": "stream",
          "name": "stdout",
          "text": [
            "박혜강 님 안녕하세요\n"
          ]
        }
      ]
    },
    {
      "cell_type": "code",
      "source": [
        "def add(num,num2):\n",
        "  result = num+num2"
      ],
      "metadata": {
        "id": "ImzX-kheLgKL"
      },
      "execution_count": 14,
      "outputs": []
    },
    {
      "cell_type": "code",
      "source": [
        "add(1,2)"
      ],
      "metadata": {
        "id": "jagyfQYsL4R5"
      },
      "execution_count": 17,
      "outputs": []
    },
    {
      "cell_type": "code",
      "source": [
        "addResult = add(1,2)\n",
        "print(addResult)"
      ],
      "metadata": {
        "colab": {
          "base_uri": "https://localhost:8080/"
        },
        "id": "Efuut-XhL477",
        "outputId": "3417b99d-7a9f-4351-db43-2fced25a40a2"
      },
      "execution_count": 19,
      "outputs": [
        {
          "output_type": "stream",
          "name": "stdout",
          "text": [
            "None\n"
          ]
        }
      ]
    },
    {
      "cell_type": "code",
      "source": [
        "def add2(num,num2):\n",
        "  result = num+num2\n",
        "  return result"
      ],
      "metadata": {
        "id": "ab6NKH6kMMyM"
      },
      "execution_count": 22,
      "outputs": []
    },
    {
      "cell_type": "code",
      "source": [
        "addResult2 = add2(1,2)\n",
        "print(addResult2)"
      ],
      "metadata": {
        "colab": {
          "base_uri": "https://localhost:8080/"
        },
        "id": "dPcAHe_pMO2e",
        "outputId": "625a24fd-bce3-45e9-9a40-50b6cd510caf"
      },
      "execution_count": 23,
      "outputs": [
        {
          "output_type": "stream",
          "name": "stdout",
          "text": [
            "3\n"
          ]
        }
      ]
    },
    {
      "cell_type": "code",
      "source": [
        "def add3(num,num2):\n",
        "  result = num+num2\n",
        "  return result"
      ],
      "metadata": {
        "id": "Gyflxam4MUIc"
      },
      "execution_count": 31,
      "outputs": []
    },
    {
      "cell_type": "code",
      "source": [
        "add3(1,2)"
      ],
      "metadata": {
        "colab": {
          "base_uri": "https://localhost:8080/"
        },
        "id": "MTFJGn2zNa5t",
        "outputId": "d7f2094a-a6e8-4c70-9084-c66be0801526"
      },
      "execution_count": 33,
      "outputs": [
        {
          "output_type": "execute_result",
          "data": {
            "text/plain": [
              "3"
            ]
          },
          "metadata": {},
          "execution_count": 33
        }
      ]
    },
    {
      "cell_type": "code",
      "source": [
        "def xminusy(y,x):\n",
        "  minus = x-y\n",
        "  print(minus)"
      ],
      "metadata": {
        "id": "_y6Qd9FaNcO6"
      },
      "execution_count": 34,
      "outputs": []
    },
    {
      "cell_type": "code",
      "source": [
        "xminusy(20,10)\n",
        "xminusy(x=20,y=10)"
      ],
      "metadata": {
        "colab": {
          "base_uri": "https://localhost:8080/"
        },
        "id": "NEn4TEOBN-Qh",
        "outputId": "8b4be779-475b-4c46-8524-963fbe216d85"
      },
      "execution_count": 37,
      "outputs": [
        {
          "output_type": "stream",
          "name": "stdout",
          "text": [
            "-10\n",
            "10\n"
          ]
        }
      ]
    },
    {
      "cell_type": "code",
      "source": [
        "def 덧셈뺄셈(x,y):\n",
        "  덧셈결과 = x+y\n",
        "  뺄셈결과 = x-y\n",
        "  return 덧셈결과, 뺄셈결과"
      ],
      "metadata": {
        "id": "eFAveyxYOCtc"
      },
      "execution_count": 38,
      "outputs": []
    },
    {
      "cell_type": "code",
      "source": [
        "결과 = 덧셈뺄셈(1,2)\n",
        "print(결과)"
      ],
      "metadata": {
        "colab": {
          "base_uri": "https://localhost:8080/"
        },
        "id": "j90rGHVGTFfH",
        "outputId": "d8d7a85c-0927-430c-8b8d-e7b2faf28d23"
      },
      "execution_count": 41,
      "outputs": [
        {
          "output_type": "stream",
          "name": "stdout",
          "text": [
            "(3, -1)\n"
          ]
        }
      ]
    },
    {
      "cell_type": "code",
      "source": [
        "덧셈결과, 뺄셈결과 = 덧셈뺄셈(20,10)\n",
        "print(덧셈결과)\n",
        "print(뺄셈결과)"
      ],
      "metadata": {
        "colab": {
          "base_uri": "https://localhost:8080/"
        },
        "id": "-qDr5cHVTVJV",
        "outputId": "32da1ba7-a140-4928-9f6a-cdb3c1fccc57"
      },
      "execution_count": 42,
      "outputs": [
        {
          "output_type": "stream",
          "name": "stdout",
          "text": [
            "30\n",
            "10\n"
          ]
        }
      ]
    },
    {
      "cell_type": "code",
      "source": [
        "함수실행결과 = 덧셈뺄셈(20,10)\n",
        "print(함수실행결과)"
      ],
      "metadata": {
        "colab": {
          "base_uri": "https://localhost:8080/"
        },
        "id": "eRZRvCJlThBA",
        "outputId": "ce908a8f-27b6-4c53-f53a-7d6d0531eabc"
      },
      "execution_count": 43,
      "outputs": [
        {
          "output_type": "stream",
          "name": "stdout",
          "text": [
            "(30, 10)\n"
          ]
        }
      ]
    },
    {
      "cell_type": "code",
      "source": [
        "print(type(함수실행결과))\n",
        "print(함수실행결과[0])\n",
        "print(함수실행결과[1])\n",
        "덧셈결과 = 함수실행결과[0]\n",
        "뺄셈결과 = 함수실행결과[1]\n",
        "print(덧셈결과)\n",
        "print(뺄셈결과)"
      ],
      "metadata": {
        "colab": {
          "base_uri": "https://localhost:8080/"
        },
        "id": "E8Asjp5HTnR3",
        "outputId": "3c525529-fb74-4c59-ebce-378de58cc661"
      },
      "execution_count": 46,
      "outputs": [
        {
          "output_type": "stream",
          "name": "stdout",
          "text": [
            "<class 'tuple'>\n",
            "30\n",
            "10\n",
            "30\n",
            "10\n"
          ]
        }
      ]
    },
    {
      "cell_type": "code",
      "source": [
        "튜플값1, 튜플값2 = (1,2) #튜플을 변수에 할당가능\n",
        "print(튜플값1)"
      ],
      "metadata": {
        "colab": {
          "base_uri": "https://localhost:8080/"
        },
        "id": "8OQ_f1VaT3vt",
        "outputId": "cc85b34e-759e-4eed-cbb0-8cd91f1da648"
      },
      "execution_count": 47,
      "outputs": [
        {
          "output_type": "stream",
          "name": "stdout",
          "text": [
            "1\n"
          ]
        }
      ]
    },
    {
      "cell_type": "code",
      "source": [
        "while True:\n",
        "  처음, 기호, 다음 = 값입력하기()\n",
        "  계산및출력(처음, 기호, 다음)\n",
        "  종료여부 = 종료여부확인()\n",
        "  if 종료여부:\n",
        "    break"
      ],
      "metadata": {
        "colab": {
          "base_uri": "https://localhost:8080/"
        },
        "id": "qygdqW_iiRxn",
        "outputId": "5b284399-fd6f-4477-c173-1000bedb8712"
      },
      "execution_count": 128,
      "outputs": [
        {
          "name": "stdout",
          "output_type": "stream",
          "text": [
            "첫번째 숫자를 입력하세요4\n",
            "기호를 입력하세요*\n",
            "두번째 숫자를 입력하세요2\n",
            "곱하기입니다\n",
            "8\n",
            "종료하려면 x를 눌려주세요ㅌ\n",
            "첫번째 숫자를 입력하세요5\n",
            "기호를 입력하세요+\n",
            "두번째 숫자를 입력하세요7\n",
            "더하기입니다.\n",
            "12\n",
            "종료하려면 x를 눌려주세요x\n"
          ]
        }
      ]
    },
    {
      "cell_type": "code",
      "source": [
        "def 계산기():\n",
        "  while True:\n",
        "    처음, 기호, 다음 = 값입력하기()\n",
        "    계산및출력(처음, 기호, 다음)\n",
        "    종료여부 = 종료여부확인()\n",
        "    if 종료여부:\n",
        "      break"
      ],
      "metadata": {
        "id": "CsJEJwtjZwnm"
      },
      "execution_count": 134,
      "outputs": []
    },
    {
      "cell_type": "code",
      "source": [
        "num = 1 #클래스 수업 시작\n",
        "print(type(num))"
      ],
      "metadata": {
        "colab": {
          "base_uri": "https://localhost:8080/"
        },
        "id": "Kpq4Dg98iHkC",
        "outputId": "0f162e75-0494-41bb-bc49-b7c6d32269d0"
      },
      "execution_count": 135,
      "outputs": [
        {
          "output_type": "stream",
          "name": "stdout",
          "text": [
            "<class 'int'>\n"
          ]
        }
      ]
    },
    {
      "cell_type": "code",
      "source": [
        "string = 'hello'\n",
        "print(type(string))"
      ],
      "metadata": {
        "colab": {
          "base_uri": "https://localhost:8080/"
        },
        "id": "_UbxnbsBiy-e",
        "outputId": "c51e35da-bdf5-42fa-c050-46d4963aa7cc"
      },
      "execution_count": 136,
      "outputs": [
        {
          "output_type": "stream",
          "name": "stdout",
          "text": [
            "<class 'str'>\n"
          ]
        }
      ]
    },
    {
      "cell_type": "code",
      "source": [
        "class animal:\n",
        "  pass"
      ],
      "metadata": {
        "id": "Ou9_kZ_Ci8av"
      },
      "execution_count": 137,
      "outputs": []
    },
    {
      "cell_type": "code",
      "source": [
        "animal = Animal()\n",
        "print(type(animal))"
      ],
      "metadata": {
        "colab": {
          "base_uri": "https://localhost:8080/"
        },
        "id": "YnTByGCMjd3S",
        "outputId": "19b946d1-7261-4a58-a106-3b169b497128"
      },
      "execution_count": 145,
      "outputs": [
        {
          "output_type": "stream",
          "name": "stdout",
          "text": [
            "<class '__main__.Animal'>\n"
          ]
        }
      ]
    },
    {
      "cell_type": "code",
      "source": [
        "class Animal:\n",
        "  kor = \"동물\"\n",
        "  def 숨쉬기():\n",
        "    print(\"숨을쉽니다\")\n",
        "  def 움직이기():\n",
        "    print(\"몸을 움직입니다\")"
      ],
      "metadata": {
        "id": "wUGb2aoMjurW"
      },
      "execution_count": 146,
      "outputs": []
    },
    {
      "cell_type": "code",
      "source": [
        "개 = Animal()\n",
        "print(type(개))\n",
        "Animal.숨쉬기()\n",
        "Animal.움직이기()\n",
        "print(\"==========\")\n",
        "개.숨쉬기()\n",
        "개.움직이기()"
      ],
      "metadata": {
        "colab": {
          "base_uri": "https://localhost:8080/",
          "height": 301
        },
        "id": "RYns8pBZkOX0",
        "outputId": "8544e33d-620c-49fb-cf52-119f954accab"
      },
      "execution_count": 150,
      "outputs": [
        {
          "output_type": "stream",
          "name": "stdout",
          "text": [
            "<class '__main__.Animal'>\n",
            "숨을쉽니다\n",
            "몸을 움직입니다\n",
            "==========\n"
          ]
        },
        {
          "output_type": "error",
          "ename": "TypeError",
          "evalue": "ignored",
          "traceback": [
            "\u001b[0;31m---------------------------------------------------------------------------\u001b[0m",
            "\u001b[0;31mTypeError\u001b[0m                                 Traceback (most recent call last)",
            "\u001b[0;32m<ipython-input-150-ed984f74e676>\u001b[0m in \u001b[0;36m<module>\u001b[0;34m()\u001b[0m\n\u001b[1;32m      4\u001b[0m \u001b[0mAnimal\u001b[0m\u001b[0;34m.\u001b[0m\u001b[0m움직이기\u001b[0m\u001b[0;34m(\u001b[0m\u001b[0;34m)\u001b[0m\u001b[0;34m\u001b[0m\u001b[0;34m\u001b[0m\u001b[0m\n\u001b[1;32m      5\u001b[0m \u001b[0mprint\u001b[0m\u001b[0;34m(\u001b[0m\u001b[0;34m\"==========\"\u001b[0m\u001b[0;34m)\u001b[0m\u001b[0;34m\u001b[0m\u001b[0;34m\u001b[0m\u001b[0m\n\u001b[0;32m----> 6\u001b[0;31m \u001b[0m개\u001b[0m\u001b[0;34m.\u001b[0m\u001b[0m숨쉬기\u001b[0m\u001b[0;34m(\u001b[0m\u001b[0;34m)\u001b[0m\u001b[0;34m\u001b[0m\u001b[0;34m\u001b[0m\u001b[0m\n\u001b[0m\u001b[1;32m      7\u001b[0m \u001b[0m개\u001b[0m\u001b[0;34m.\u001b[0m\u001b[0m움직이기\u001b[0m\u001b[0;34m(\u001b[0m\u001b[0;34m)\u001b[0m\u001b[0;34m\u001b[0m\u001b[0;34m\u001b[0m\u001b[0m\n",
            "\u001b[0;31mTypeError\u001b[0m: 숨쉬기() takes 0 positional arguments but 1 was given"
          ]
        }
      ]
    },
    {
      "cell_type": "code",
      "source": [
        "class Animal:\n",
        "  kor = \"동물\"\n",
        "  def 숨쉬기(self):\n",
        "    print(\"숨을쉽니다\")\n",
        "  def 움직이기(self):\n",
        "    print(\"몸을 움직입니다\")\n",
        "  def 말하기(self, 문장):\n",
        "    print(문장)\n",
        "animal = Animal()\n",
        "animal.숨쉬기()\n",
        "animal.움직이기()\n",
        "animal.말하기(\"안녕하세요\")\n",
        "print(animal.kor)"
      ],
      "metadata": {
        "colab": {
          "base_uri": "https://localhost:8080/"
        },
        "id": "Vr1ahw7fkbIl",
        "outputId": "f710079d-f3eb-47a8-8c57-5c69c8463dc0"
      },
      "execution_count": 151,
      "outputs": [
        {
          "output_type": "stream",
          "name": "stdout",
          "text": [
            "숨을쉽니다\n",
            "몸을 움직입니다\n",
            "안녕하세요\n",
            "동물\n"
          ]
        }
      ]
    },
    {
      "cell_type": "code",
      "source": [
        "class Animal:\n",
        "  kor = \"동물\"\n",
        "  def __init__(self):\n",
        "    print(\"태어났습니다\")\n",
        "  def 숨쉬기(self):\n",
        "    print(\"숨을쉽니다\")\n",
        "  def 움직이기(self):\n",
        "    print(\"몸을 움직입니다\")\n",
        "  def 말하기(self, 문장):\n",
        "    print(문장)\n",
        "  def __del__(self):\n",
        "    print(\"죽었습니다\")"
      ],
      "metadata": {
        "id": "dWEEniqdmVcF"
      },
      "execution_count": 184,
      "outputs": []
    },
    {
      "cell_type": "code",
      "source": [
        "animal = Animal()"
      ],
      "metadata": {
        "colab": {
          "base_uri": "https://localhost:8080/"
        },
        "id": "jnslYEplnBmG",
        "outputId": "01f8f630-3274-4c4d-b7a5-5f317d42cb0c"
      },
      "execution_count": 185,
      "outputs": [
        {
          "output_type": "stream",
          "name": "stdout",
          "text": [
            "태어났습니다\n"
          ]
        }
      ]
    },
    {
      "cell_type": "code",
      "source": [
        "print(\"=============\")\n",
        "del animal"
      ],
      "metadata": {
        "colab": {
          "base_uri": "https://localhost:8080/"
        },
        "id": "3J8jUS8mmpts",
        "outputId": "67046753-9703-4ff3-b8a1-e7732ef3f35f"
      },
      "execution_count": 186,
      "outputs": [
        {
          "output_type": "stream",
          "name": "stdout",
          "text": [
            "=============\n",
            "죽었습니다\n"
          ]
        }
      ]
    },
    {
      "cell_type": "code",
      "source": [
        "class Animal:\n",
        "  kor = \"동물\"\n",
        "  def __init__(self,키,생일):\n",
        "    self.키 = 키\n",
        "    self.생일 = 생일\n",
        "    print(\"태어났습니다\")\n",
        "  def 키얻기(self):\n",
        "    print(f\"키는 {self.키}cm입니다\")\n",
        "  def 생일얻기(self):\n",
        "    print(f\"생일은 {self.생일}입니다\")\n",
        "  def 숨쉬기(self):\n",
        "    print(\"숨을쉽니다\")\n",
        "  def 움직이기(self):\n",
        "    print(\"몸을 움직입니다\")\n",
        "  def 말하기(self, 문장):\n",
        "    print(문장)\n",
        "  def __del__(self):\n",
        "    print(\"죽었습니다\")"
      ],
      "metadata": {
        "id": "L0n0ndF_nPTk"
      },
      "execution_count": 200,
      "outputs": []
    },
    {
      "cell_type": "code",
      "source": [
        "animal = Animal(키=30, 생일=20220219)\n",
        "print(animal.키)\n",
        "animal.키얻기()"
      ],
      "metadata": {
        "colab": {
          "base_uri": "https://localhost:8080/"
        },
        "id": "5iv4ewLNpGq_",
        "outputId": "1cf27ee0-8cd4-4a1a-c6f5-56734dface39"
      },
      "execution_count": 202,
      "outputs": [
        {
          "output_type": "stream",
          "name": "stdout",
          "text": [
            "태어났습니다\n",
            "30\n",
            "키는 30cm입니다\n",
            "죽었습니다\n"
          ]
        }
      ]
    },
    {
      "cell_type": "code",
      "source": [
        "dir(animal)"
      ],
      "metadata": {
        "colab": {
          "base_uri": "https://localhost:8080/"
        },
        "id": "KrQXIXjnqTzp",
        "outputId": "b683b667-9469-474c-831d-77f15294071e"
      },
      "execution_count": 204,
      "outputs": [
        {
          "output_type": "execute_result",
          "data": {
            "text/plain": [
              "['__class__',\n",
              " '__del__',\n",
              " '__delattr__',\n",
              " '__dict__',\n",
              " '__dir__',\n",
              " '__doc__',\n",
              " '__eq__',\n",
              " '__format__',\n",
              " '__ge__',\n",
              " '__getattribute__',\n",
              " '__gt__',\n",
              " '__hash__',\n",
              " '__init__',\n",
              " '__init_subclass__',\n",
              " '__le__',\n",
              " '__lt__',\n",
              " '__module__',\n",
              " '__ne__',\n",
              " '__new__',\n",
              " '__reduce__',\n",
              " '__reduce_ex__',\n",
              " '__repr__',\n",
              " '__setattr__',\n",
              " '__sizeof__',\n",
              " '__str__',\n",
              " '__subclasshook__',\n",
              " '__weakref__',\n",
              " 'kor',\n",
              " '말하기',\n",
              " '생일',\n",
              " '생일얻기',\n",
              " '숨쉬기',\n",
              " '움직이기',\n",
              " '키',\n",
              " '키얻기']"
            ]
          },
          "metadata": {},
          "execution_count": 204
        }
      ]
    },
    {
      "cell_type": "code",
      "source": [
        "print(type(animal.말하기))"
      ],
      "metadata": {
        "colab": {
          "base_uri": "https://localhost:8080/"
        },
        "id": "zZrvRqOCqU5z",
        "outputId": "5b0cb590-9378-4d61-f4a3-3982bd17ae53"
      },
      "execution_count": 205,
      "outputs": [
        {
          "output_type": "stream",
          "name": "stdout",
          "text": [
            "<class 'method'>\n"
          ]
        }
      ]
    },
    {
      "cell_type": "code",
      "source": [
        "class 개(Animal):\n",
        "  def 짖기(self):\n",
        "    print(\"멍\")"
      ],
      "metadata": {
        "id": "UjzeYx3uqnvw"
      },
      "execution_count": 219,
      "outputs": []
    },
    {
      "cell_type": "code",
      "source": [
        "요크셔=개(키=30, 생일 =\"오늘\")\n",
        "요크셔.짖기()"
      ],
      "metadata": {
        "colab": {
          "base_uri": "https://localhost:8080/"
        },
        "id": "ZvjgjWxhq5Gh",
        "outputId": "19274ad4-0374-4a6b-d6ec-e75b1abd2772"
      },
      "execution_count": 220,
      "outputs": [
        {
          "output_type": "stream",
          "name": "stdout",
          "text": [
            "태어났습니다\n",
            "멍\n",
            "죽었습니다\n"
          ]
        }
      ]
    },
    {
      "cell_type": "code",
      "source": [
        "요크셔.키얻기()\n"
      ],
      "metadata": {
        "colab": {
          "base_uri": "https://localhost:8080/"
        },
        "id": "VJQiMSA7rTMm",
        "outputId": "b1839ca8-0066-4593-c51c-a60fefd958fb"
      },
      "execution_count": 221,
      "outputs": [
        {
          "output_type": "stream",
          "name": "stdout",
          "text": [
            "키는 30cm입니다\n"
          ]
        }
      ]
    },
    {
      "cell_type": "code",
      "source": [
        "del 요크셔"
      ],
      "metadata": {
        "colab": {
          "base_uri": "https://localhost:8080/",
          "height": 173
        },
        "id": "BqnPJQr8rn0m",
        "outputId": "f8344b05-6bae-4a8b-98ff-4018fb606517"
      },
      "execution_count": 223,
      "outputs": [
        {
          "output_type": "error",
          "ename": "NameError",
          "evalue": "ignored",
          "traceback": [
            "\u001b[0;31m---------------------------------------------------------------------------\u001b[0m",
            "\u001b[0;31mNameError\u001b[0m                                 Traceback (most recent call last)",
            "\u001b[0;32m<ipython-input-223-91a9c664239f>\u001b[0m in \u001b[0;36m<module>\u001b[0;34m()\u001b[0m\n\u001b[0;32m----> 1\u001b[0;31m \u001b[0;32mdel\u001b[0m \u001b[0m요크셔\u001b[0m\u001b[0;34m\u001b[0m\u001b[0;34m\u001b[0m\u001b[0m\n\u001b[0m",
            "\u001b[0;31mNameError\u001b[0m: name '요크셔' is not defined"
          ]
        }
      ]
    },
    {
      "cell_type": "code",
      "source": [
        ""
      ],
      "metadata": {
        "id": "-wNcSAQawFXK"
      },
      "execution_count": null,
      "outputs": []
    }
  ]
}